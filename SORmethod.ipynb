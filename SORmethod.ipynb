{
 "cells": [
  {
   "cell_type": "code",
   "execution_count": 12,
   "id": "14fd7b15",
   "metadata": {
    "scrolled": false
   },
   "outputs": [
    {
     "name": "stdout",
     "output_type": "stream",
     "text": [
      "[-3.         -2.5        -2.25       -2.125      -2.0625     -2.03125\n",
      " -2.015625   -2.0078125  -2.00390625 -2.00195312 -2.00097656 -2.00048828\n",
      " -2.00024414 -2.00012207 -2.00006104 -2.00003052 -2.00001526 -2.00000763\n",
      " -2.00000381 -2.00000191]\n"
     ]
    },
    {
     "data": {
      "text/plain": [
       "<matplotlib.legend.Legend at 0x1c49ca90430>"
      ]
     },
     "execution_count": 12,
     "metadata": {},
     "output_type": "execute_result"
    },
    {
     "data": {
      "image/png": "[encoded data removed]",
      "text/plain": [
       "<Figure size 432x288 with 1 Axes>"
      ]
     },
     "metadata": {
      "needs_background": "light"
     },
     "output_type": "display_data"
    }
   ],
   "source": [
    "import math\n",
    "import numpy as np\n",
    "%matplotlib inline\n",
    "import matplotlib.pyplot as plt\n",
    "a = np.array([[1.0,-1,0,0],[-1,2,-1,0],[0,-1,2,-1],[0,0,-1,2]])\n",
    "b = np.array([1.0,0,0,0])\n",
    "x1 = np.array([0.0,0,0])\n",
    "x2 = np.array([0.0,0,0])\n",
    "x3 = np.array([0.0,0,0])\n",
    "xsol = np.array([4.0,3,2,1])\n",
    "n = 20 #反復回数の指定\n",
    "sor1 = np.zeros((n,4)) #SORを実行した際に解を一回ずつ格納する配列\n",
    "errorx0_1 = np.zeros(n) #x[0]の誤差を格納\n",
    "errorx1_1 = np.zeros(n) #x[1]の誤差を格納\n",
    "errorx2_1 = np.zeros(n) #x[2]の誤差を格納\n",
    "errorx3_1 = np.zeros(n) #x[3]の誤差を格納\n",
    "norm1 = np.zeros(n) #誤差の距離を格納\n",
    "omega1 = 1\n",
    "sor2 = np.zeros((n,4)) \n",
    "errorx0_2 = np.zeros(n)\n",
    "errorx1_2 = np.zeros(n) \n",
    "errorx2_2 = np.zeros(n) \n",
    "errorx3_2 = np.zeros(n) \n",
    "norm2 = np.zeros(n) \n",
    "omega2 = 0.5\n",
    "sor3 = np.zeros((n,4)) \n",
    "errorx0_3 = np.zeros(n)\n",
    "errorx1_3 = np.zeros(n) \n",
    "errorx2_3 = np.zeros(n) \n",
    "errorx3_3 = np.zeros(n) \n",
    "norm3 = np.zeros(n) \n",
    "omega3 = 1.1\n",
    "for i in range (n): #SOR法の実行\n",
    "    \n",
    "    xtilde = (b[0]-a[0,1]*x1[1])/a[0,0] \n",
    "    x1[0] = x1[0] + omega1*(xtilde-x1[0])\n",
    "    sor1[i,0] = x1[0]\n",
    "\n",
    "    xtilde = (b[1]-a[1,0]*x1[0])/a[1,1]\n",
    "    x1[1] = x1[1]+omega1*(xtilde - x1[1])\n",
    "    sor1[i,1] = x1[1]\n",
    "    \n",
    "    errorx0_1[i] = sor1[i,0]-xsol[0]\n",
    "    errorx1_1[i] = sor1[i,1]-xsol[1]\n",
    "    errorx2_1[i] = sor1[i,2]-xsol[2]\n",
    "    errorx3_1[i] = sor1[i,3]-xsol[3]\n",
    "    norm1[i] = math.sqrt(errorx0_1[i]**2+errorx1_1[i]**2+errorx2_1[i]**2+errorx3_1[i]**2)\n",
    "for i in range (n): \n",
    "    \n",
    "    xtilde = (b[0]-a[0,1]*x2[1])/a[0,0] \n",
    "    x2[0] = x2[0] + omega2*(xtilde-x2[0])\n",
    "    sor2[i,0] = x2[0]\n",
    "\n",
    "    xtilde = (b[1]-a[1,0]*x2[0])/a[1,1]\n",
    "    x2[1] = x2[1]+omega2*(xtilde - x2[1])\n",
    "    sor2[i,1] = x2[1]\n",
    "    \n",
    "    errorx0_2[i] = sor2[i,0]-xsol[0]\n",
    "    errorx1_2[i] = sor2[i,1]-xsol[1]\n",
    "    errorx2_2[i] = sor2[i,2]-xsol[2]\n",
    "    errorx3_2[i] = sor2[i,3]-xsol[3]\n",
    "    norm2[i] = math.sqrt(errorx0_2[i]**2+errorx1_2[i]**2+errorx2_2[i]**2+errorx3_2[i]**2)\n",
    "for i in range (n): \n",
    "    \n",
    "    xtilde = (b[0]-a[0,1]*x3[1])/a[0,0] \n",
    "    x3[0] = x3[0] + omega3*(xtilde-x3[0])\n",
    "    sor3[i,0] = x3[0]\n",
    "\n",
    "    xtilde = (b[1]-a[1,0]*x3[0])/a[1,1]\n",
    "    x3[1] = x3[1]+omega3*(xtilde - x3[1])\n",
    "    sor3[i,1] = x3[1]\n",
    "    \n",
    "    errorx0_3[i] = sor3[i,0]-xsol[0]\n",
    "    errorx1_3[i] = sor3[i,1]-xsol[1]\n",
    "    errorx2_3[i] = sor3[i,2]-xsol[2]\n",
    "    errorx3_3[i] = sor3[i,3]-xsol[3]\n",
    "    norm3[i] = math.sqrt(errorx0_3[i]**2+errorx1_3[i]**2+errorx2_3[i]**2+errorx3_3[i]**2)\n",
    "print(errorx0_1)\n",
    "plt.plot(range(n),norm1, label = \"omega=1\")\n",
    "plt.plot(range(n),norm2, label = \"omega=0.5\")\n",
    "plt.plot(range(n),norm3, label = \"omega=1.1\")\n",
    "plt.title(\"How SOR method converge\")\n",
    "plt.xlabel(\"The number of iteration\")\n",
    "plt.ylabel(\"Error\")\n",
    "plt.xticks([0,5,10,15,20])\n",
    "plt.legend(loc='upper right',fontsize=10)"
   ]
  }
 ],
 "metadata": {
  "kernelspec": {
   "display_name": "Python 3",
   "language": "python",
   "name": "python3"
  },
  "language_info": {
   "codemirror_mode": {
    "name": "ipython",
    "version": 3
   },
   "file_extension": ".py",
   "mimetype": "text/x-python",
   "name": "python",
   "nbconvert_exporter": "python",
   "pygments_lexer": "ipython3",
   "version": "3.8.8"
  }
 },
 "nbformat": 4,
 "nbformat_minor": 5
}
