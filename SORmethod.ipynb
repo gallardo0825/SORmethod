{
 "cells": [
  {
   "cell_type": "code",
   "execution_count": 75,
   "id": "14fd7b15",
   "metadata": {
    "scrolled": false
   },
   "outputs": [
    {
     "data": {
      "text/plain": [
       "[<matplotlib.lines.Line2D at 0x2b731074ac0>]"
      ]
     },
     "execution_count": 75,
     "metadata": {},
     "output_type": "execute_result"
    },
    {
     "data": {
      "image/png": "[encoded data removed]",
      "text/plain": [
       "<Figure size 432x288 with 1 Axes>"
      ]
     },
     "metadata": {
      "needs_background": "light"
     },
     "output_type": "display_data"
    }
   ],
   "source": [
    "import math\n",
    "import numpy as np\n",
    "%matplotlib inline\n",
    "import matplotlib.pyplot as plt\n",
    "a = np.array([[2.0,1],[1,2]])\n",
    "b = np.array([5.0,4])\n",
    "x = np.array([0.0,0])\n",
    "xsol = np.array([2.0,1])\n",
    "n = 100 #反復回数の指定\n",
    "sor = np.zeros((n,2)) #SORを実行した際に解を一回ずつ格納する配列\n",
    "errorx0 = np.zeros(n) #x[0]の誤差を格納\n",
    "errorx1 = np.zeros(n) #x[1]の誤差を格納\n",
    "norm = np.zeros(n) #誤差の距離を格納\n",
    "omega = 1.0\n",
    "for i in range (n): #SOR法の実行\n",
    "    \n",
    "    xtilde = (b[0]-a[0,1]*x[1])/a[0,0] \n",
    "    x[0] = x[0] + omega*(xtilde-x[0])\n",
    "    sor[i,0] = x[0]\n",
    "\n",
    "    xtilde = (b[1]-a[1,0]*x[0])/a[1,1]\n",
    "    x[1] = x[1]+omega*(xtilde - x[1])\n",
    "    sor[i,1] = x[1]\n",
    "    \n",
    "    errorx0[i] = sor[i,0]-xsol[0]\n",
    "    errorx1[i] = sor[i,1]-xsol[1]\n",
    "    norm[i] = math.sqrt(errorx0[i]**2+errorx1[i]**2)\n",
    "plt.plot(range(n),norm)"
   ]
  }
 ],
 "metadata": {
  "kernelspec": {
   "display_name": "Python 3",
   "language": "python",
   "name": "python3"
  },
  "language_info": {
   "codemirror_mode": {
    "name": "ipython",
    "version": 3
   },
   "file_extension": ".py",
   "mimetype": "text/x-python",
   "name": "python",
   "nbconvert_exporter": "python",
   "pygments_lexer": "ipython3",
   "version": "3.8.8"
  }
 },
 "nbformat": 4,
 "nbformat_minor": 5
}
