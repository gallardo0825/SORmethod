{
 "cells": [
  {
   "cell_type": "code",
   "execution_count": 8,
   "id": "14fd7b15",
   "metadata": {},
   "outputs": [
    {
     "name": "stdout",
     "output_type": "stream",
     "text": [
      "[2.5  0.75]\n",
      "[2.125  0.9375]\n",
      "[2.03125  0.984375]\n",
      "[2.0078125  0.99609375]\n",
      "[2.00195312 0.99902344]\n",
      "[2.00048828 0.99975586]\n",
      "[2.00012207 0.99993896]\n",
      "[2.00003052 0.99998474]\n",
      "[2.00000763 0.99999619]\n",
      "[2.00000191 0.99999905]\n",
      "[2.00000048 0.99999976]\n",
      "[2.00000012 0.99999994]\n",
      "[2.00000003 0.99999999]\n",
      "[2.00000001 1.        ]\n",
      "[2. 1.]\n",
      "[2. 1.]\n",
      "[2. 1.]\n",
      "[2. 1.]\n",
      "[2. 1.]\n",
      "[2. 1.]\n"
     ]
    }
   ],
   "source": [
    "import math\n",
    "import numpy as np\n",
    "a = np.array([[2.0,1],[1,2]])\n",
    "b = np.array([5.0,4])\n",
    "x = np.array([0.0,0])\n",
    "omega = 1.0\n",
    "for i in range (20):\n",
    "    \n",
    "    xtilde = (b[0]-a[0,1]*x[1])/a[0,0] # = b1\n",
    "    x[0] = x[0] + omega*(xtilde-x[0])\n",
    "\n",
    "    xtilde = (b[1]-a[1,0]*x[0])/a[1,1]\n",
    "    x[1] = x[1]+omega*(xtilde - x[1])\n",
    "\n",
    "    print(x)"
   ]
  }
 ],
 "metadata": {
  "kernelspec": {
   "display_name": "Python 3",
   "language": "python",
   "name": "python3"
  },
  "language_info": {
   "codemirror_mode": {
    "name": "ipython",
    "version": 3
   },
   "file_extension": ".py",
   "mimetype": "text/x-python",
   "name": "python",
   "nbconvert_exporter": "python",
   "pygments_lexer": "ipython3",
   "version": "3.8.8"
  }
 },
 "nbformat": 4,
 "nbformat_minor": 5
}
