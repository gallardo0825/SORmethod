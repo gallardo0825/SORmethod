{
 "cells": [
  {
   "cell_type": "code",
   "execution_count": 3,
   "id": "14fd7b15",
   "metadata": {
    "scrolled": false
   },
   "outputs": [
    {
     "data": {
      "text/plain": [
       "<matplotlib.legend.Legend at 0x2262cb51fd0>"
      ]
     },
     "execution_count": 3,
     "metadata": {},
     "output_type": "execute_result"
    },
    {
     "data": {
      "image/png": "[encoded data removed]",
      "text/plain": [
       "<Figure size 432x288 with 1 Axes>"
      ]
     },
     "metadata": {
      "needs_background": "light"
     },
     "output_type": "display_data"
    }
   ],
   "source": [
    "import math\n",
    "import numpy as np\n",
    "%matplotlib inline\n",
    "import matplotlib.pyplot as plt\n",
    "a = np.array([[2.0,1],[1,2]])\n",
    "b = np.array([5.0,4])\n",
    "x1 = np.array([0.0,0])\n",
    "x2 = np.array([0.0,0])\n",
    "x3 = np.array([0.0,0])\n",
    "xsol = np.array([2.0,1])\n",
    "n = 20 #反復回数の指定\n",
    "sor1 = np.zeros((n,2)) #SORを実行した際に解を一回ずつ格納する配列\n",
    "error1x0 = np.zeros(n) #x[0]の誤差を格納\n",
    "error1x1 = np.zeros(n) #x[1]の誤差を格納\n",
    "norm1 = np.zeros(n) #誤差の距離を格納\n",
    "omega1 = 1.9\n",
    "sor2 = np.zeros((n,2)) \n",
    "error2x0 = np.zeros(n) \n",
    "error2x1 = np.zeros(n) \n",
    "norm2 = np.zeros(n) \n",
    "omega2 = 1.0\n",
    "sor3 = np.zeros((n,2)) \n",
    "error3x0 = np.zeros(n) \n",
    "error3x1 = np.zeros(n) \n",
    "norm3 = np.zeros(n) \n",
    "omega3 = 0.5\n",
    "for i in range (n): #SOR法の実行\n",
    "    \n",
    "    xtilde = (b[0]-a[0,1]*x1[1])/a[0,0] \n",
    "    x1[0] = x1[0] + omega1*(xtilde-x1[0])\n",
    "    sor1[i,0] = x1[0]\n",
    "\n",
    "    xtilde = (b[1]-a[1,0]*x1[0])/a[1,1]\n",
    "    x1[1] = x1[1]+omega1*(xtilde - x1[1])\n",
    "    sor1[i,1] = x1[1]\n",
    "    \n",
    "    error1x0[i] = sor1[i,0]-xsol[0]\n",
    "    error1x1[i] = sor1[i,1]-xsol[1]\n",
    "    norm1[i] = math.sqrt(error1x0[i]**2+error1x1[i]**2)\n",
    "for i in range (n): \n",
    "    \n",
    "    xtilde = (b[0]-a[0,1]*x2[1])/a[0,0] \n",
    "    x2[0] = x2[0] + omega2*(xtilde-x2[0])\n",
    "    sor2[i,0] = x2[0]\n",
    "\n",
    "    xtilde = (b[1]-a[1,0]*x2[0])/a[1,1]\n",
    "    x2[1] = x2[1]+omega2*(xtilde - x2[1])\n",
    "    sor2[i,1] = x2[1]\n",
    "    \n",
    "    error2x0[i] = sor2[i,0]-xsol[0]\n",
    "    error2x1[i] = sor2[i,1]-xsol[1]\n",
    "    norm2[i] = math.sqrt(error2x0[i]**2+error2x1[i]**2)\n",
    "for i in range (n): \n",
    "    \n",
    "    xtilde = (b[0]-a[0,1]*x3[1])/a[0,0] \n",
    "    x3[0] = x3[0] + omega3*(xtilde-x3[0])\n",
    "    sor3[i,0] = x3[0]\n",
    "\n",
    "    xtilde = (b[1]-a[1,0]*x3[0])/a[1,1]\n",
    "    x3[1] = x3[1]+omega3*(xtilde - x3[1])\n",
    "    sor3[i,1] = x3[1]\n",
    "    \n",
    "    error3x0[i] = sor3[i,0]-xsol[0]\n",
    "    error3x1[i] = sor3[i,1]-xsol[1]\n",
    "    norm3[i] = math.sqrt(error3x0[i]**2+error3x1[i]**2)\n",
    "\n",
    "plt.plot(range(n),norm1, label = \"omega=1\")\n",
    "plt.plot(range(n),norm2, label = \"omega=1.9\")\n",
    "plt.plot(range(n),norm3, label = \"omega=0.5\")\n",
    "plt.legend(loc='upper left',fontsize=10)\n"
   ]
  }
 ],
 "metadata": {
  "kernelspec": {
   "display_name": "Python 3",
   "language": "python",
   "name": "python3"
  },
  "language_info": {
   "codemirror_mode": {
    "name": "ipython",
    "version": 3
   },
   "file_extension": ".py",
   "mimetype": "text/x-python",
   "name": "python",
   "nbconvert_exporter": "python",
   "pygments_lexer": "ipython3",
   "version": "3.8.8"
  }
 },
 "nbformat": 4,
 "nbformat_minor": 5
}
